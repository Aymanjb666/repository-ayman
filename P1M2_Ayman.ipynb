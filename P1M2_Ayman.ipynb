{
 "cells": [
  {
   "cell_type": "markdown",
   "metadata": {
    "id": "GG-7dN4ifLyo"
   },
   "source": [
    "# Perkenalan"
   ]
  },
  {
   "cell_type": "markdown",
   "metadata": {
    "id": "TUbRKooJfPaa"
   },
   "source": [
    "========================================================================\n",
    "\n",
    "**Nama** : Ayman Baswedan\n",
    "\n",
    "\n",
    "**Batch** : HCK-022\n",
    "\n",
    "\n",
    "**Objective** :\n",
    "Membangun model machine learning yang dapat memprediksi kemungkinan seseorang terkena penyakit jantung berdasarkan data input yang mencakup berbagai faktor risiko seperti usia, tekanan darah, kadar kolesterol, dan faktor-faktor lain yang relevan. Model ini bertujuan untuk membantu dalam deteksi dini penyakit jantung dan memberikan rekomendasi untuk langkah-langkah pencegahan.\n",
    "\n",
    "metode yang di gunakan: \n",
    "\n",
    "1 - Logistic Regression \n",
    "2 - KNN\n",
    "3 - SVM\n",
    "4 - Decision Tree\n",
    "5 - Random Forest\n",
    "6 - Gradient Boosting\n",
    "\n",
    "========================================================================\n",
    "\n",
    "\n",
    "\n",
    "\n",
    "\n",
    "**Problem** : Ingin membuat model machine learning untuk memprediksi kemungkinan seseorang terkena penyakit jantung, sehingga dapat membantu dokter dalam mendeteksi risiko lebih awal dan memastikan pasien mendapatkan penanganan yang tepat.\n",
    "\n",
    "**Justifikasi** :\n",
    "\n",
    "\n",
    "1 - Tingginya Angka Kejadian dan Kematian Akibat Penyakit Jantung\n",
    "Penyakit jantung merupakan penyebab utama kematian di dunia, terhitung sekitar 17,9 juta kematian setiap tahun menurut Organisasi Kesehatan Dunia (WHO)\n",
    "\n",
    "\n",
    "2 - Kemajuan Teknologi yang Belum Diintegrasikan Secara Optimal di Bidang Kesehatan\n",
    "Teknologi machine learning telah berkembang pesat dan semakin banyak digunakan di berbagai industri. Namun, adopsi teknologi ini dalam dunia kesehatan masih terbatas di beberapa negara berkembang, termasuk Indonesia. Padahal, potensi machine learning dalam meningkatkan akurasi prediksi kesehatan, efisiensi diagnosis, serta kualitas perawatan sangat besar.\n",
    "\n",
    "\n",
    "\n",
    "\n",
    "**User** : Dokter Spesialis / Pasien"
   ]
  },
  {
   "cell_type": "markdown",
   "metadata": {
    "id": "JYleqEa0grAE"
   },
   "source": [
    "# Import Libraries"
   ]
  },
  {
   "cell_type": "code",
   "execution_count": 2,
   "metadata": {
    "id": "ymKdgng4l1N6"
   },
   "outputs": [],
   "source": [
    "import numpy as np\n",
    "import pandas as pd\n",
    "import matplotlib.pyplot as plt\n",
    "import seaborn as sns\n",
    "import warnings\n",
    "warnings.filterwarnings('ignore')\n",
    "from sklearn.model_selection import train_test_split\n",
    "from sklearn.preprocessing import StandardScaler, OneHotEncoder\n",
    "from sklearn.compose import ColumnTransformer\n",
    "from sklearn.pipeline import Pipeline\n",
    "from sklearn.impute import SimpleImputer\n",
    "from sklearn.ensemble import RandomForestClassifier, GradientBoostingClassifier\n",
    "from sklearn.svm import SVC\n",
    "from sklearn.tree import DecisionTreeClassifier\n",
    "from sklearn.neighbors import KNeighborsClassifier\n",
    "from sklearn.model_selection import cross_val_score\n",
    "from sklearn.model_selection import GridSearchCV"
   ]
  },
  {
   "cell_type": "markdown",
   "metadata": {
    "id": "5rC5cZ2dmCKY"
   },
   "source": [
    "# Data Loading"
   ]
  },
  {
   "cell_type": "code",
   "execution_count": 3,
   "metadata": {
    "colab": {
     "base_uri": "https://localhost:8080/",
     "height": 423
    },
    "id": "VZLwDSN6mD67",
    "outputId": "7774fc86-5e0c-4450-f6f1-0a7910b8fd80"
   },
   "outputs": [
    {
     "data": {
      "text/html": [
       "<div>\n",
       "<style scoped>\n",
       "    .dataframe tbody tr th:only-of-type {\n",
       "        vertical-align: middle;\n",
       "    }\n",
       "\n",
       "    .dataframe tbody tr th {\n",
       "        vertical-align: top;\n",
       "    }\n",
       "\n",
       "    .dataframe thead th {\n",
       "        text-align: right;\n",
       "    }\n",
       "</style>\n",
       "<table border=\"1\" class=\"dataframe\">\n",
       "  <thead>\n",
       "    <tr style=\"text-align: right;\">\n",
       "      <th></th>\n",
       "      <th>Age</th>\n",
       "      <th>Sex</th>\n",
       "      <th>ChestPainType</th>\n",
       "      <th>RestingBP</th>\n",
       "      <th>Cholesterol</th>\n",
       "      <th>FastingBS</th>\n",
       "      <th>RestingECG</th>\n",
       "      <th>MaxHR</th>\n",
       "      <th>ExerciseAngina</th>\n",
       "      <th>Oldpeak</th>\n",
       "      <th>ST_Slope</th>\n",
       "      <th>HeartDisease</th>\n",
       "    </tr>\n",
       "  </thead>\n",
       "  <tbody>\n",
       "    <tr>\n",
       "      <th>0</th>\n",
       "      <td>40</td>\n",
       "      <td>M</td>\n",
       "      <td>ATA</td>\n",
       "      <td>140</td>\n",
       "      <td>289</td>\n",
       "      <td>0</td>\n",
       "      <td>Normal</td>\n",
       "      <td>172</td>\n",
       "      <td>N</td>\n",
       "      <td>0.0</td>\n",
       "      <td>Up</td>\n",
       "      <td>0</td>\n",
       "    </tr>\n",
       "    <tr>\n",
       "      <th>1</th>\n",
       "      <td>49</td>\n",
       "      <td>F</td>\n",
       "      <td>NAP</td>\n",
       "      <td>160</td>\n",
       "      <td>180</td>\n",
       "      <td>0</td>\n",
       "      <td>Normal</td>\n",
       "      <td>156</td>\n",
       "      <td>N</td>\n",
       "      <td>1.0</td>\n",
       "      <td>Flat</td>\n",
       "      <td>1</td>\n",
       "    </tr>\n",
       "    <tr>\n",
       "      <th>2</th>\n",
       "      <td>37</td>\n",
       "      <td>M</td>\n",
       "      <td>ATA</td>\n",
       "      <td>130</td>\n",
       "      <td>283</td>\n",
       "      <td>0</td>\n",
       "      <td>ST</td>\n",
       "      <td>98</td>\n",
       "      <td>N</td>\n",
       "      <td>0.0</td>\n",
       "      <td>Up</td>\n",
       "      <td>0</td>\n",
       "    </tr>\n",
       "    <tr>\n",
       "      <th>3</th>\n",
       "      <td>48</td>\n",
       "      <td>F</td>\n",
       "      <td>ASY</td>\n",
       "      <td>138</td>\n",
       "      <td>214</td>\n",
       "      <td>0</td>\n",
       "      <td>Normal</td>\n",
       "      <td>108</td>\n",
       "      <td>Y</td>\n",
       "      <td>1.5</td>\n",
       "      <td>Flat</td>\n",
       "      <td>1</td>\n",
       "    </tr>\n",
       "    <tr>\n",
       "      <th>4</th>\n",
       "      <td>54</td>\n",
       "      <td>M</td>\n",
       "      <td>NAP</td>\n",
       "      <td>150</td>\n",
       "      <td>195</td>\n",
       "      <td>0</td>\n",
       "      <td>Normal</td>\n",
       "      <td>122</td>\n",
       "      <td>N</td>\n",
       "      <td>0.0</td>\n",
       "      <td>Up</td>\n",
       "      <td>0</td>\n",
       "    </tr>\n",
       "    <tr>\n",
       "      <th>...</th>\n",
       "      <td>...</td>\n",
       "      <td>...</td>\n",
       "      <td>...</td>\n",
       "      <td>...</td>\n",
       "      <td>...</td>\n",
       "      <td>...</td>\n",
       "      <td>...</td>\n",
       "      <td>...</td>\n",
       "      <td>...</td>\n",
       "      <td>...</td>\n",
       "      <td>...</td>\n",
       "      <td>...</td>\n",
       "    </tr>\n",
       "    <tr>\n",
       "      <th>913</th>\n",
       "      <td>45</td>\n",
       "      <td>M</td>\n",
       "      <td>TA</td>\n",
       "      <td>110</td>\n",
       "      <td>264</td>\n",
       "      <td>0</td>\n",
       "      <td>Normal</td>\n",
       "      <td>132</td>\n",
       "      <td>N</td>\n",
       "      <td>1.2</td>\n",
       "      <td>Flat</td>\n",
       "      <td>1</td>\n",
       "    </tr>\n",
       "    <tr>\n",
       "      <th>914</th>\n",
       "      <td>68</td>\n",
       "      <td>M</td>\n",
       "      <td>ASY</td>\n",
       "      <td>144</td>\n",
       "      <td>193</td>\n",
       "      <td>1</td>\n",
       "      <td>Normal</td>\n",
       "      <td>141</td>\n",
       "      <td>N</td>\n",
       "      <td>3.4</td>\n",
       "      <td>Flat</td>\n",
       "      <td>1</td>\n",
       "    </tr>\n",
       "    <tr>\n",
       "      <th>915</th>\n",
       "      <td>57</td>\n",
       "      <td>M</td>\n",
       "      <td>ASY</td>\n",
       "      <td>130</td>\n",
       "      <td>131</td>\n",
       "      <td>0</td>\n",
       "      <td>Normal</td>\n",
       "      <td>115</td>\n",
       "      <td>Y</td>\n",
       "      <td>1.2</td>\n",
       "      <td>Flat</td>\n",
       "      <td>1</td>\n",
       "    </tr>\n",
       "    <tr>\n",
       "      <th>916</th>\n",
       "      <td>57</td>\n",
       "      <td>F</td>\n",
       "      <td>ATA</td>\n",
       "      <td>130</td>\n",
       "      <td>236</td>\n",
       "      <td>0</td>\n",
       "      <td>LVH</td>\n",
       "      <td>174</td>\n",
       "      <td>N</td>\n",
       "      <td>0.0</td>\n",
       "      <td>Flat</td>\n",
       "      <td>1</td>\n",
       "    </tr>\n",
       "    <tr>\n",
       "      <th>917</th>\n",
       "      <td>38</td>\n",
       "      <td>M</td>\n",
       "      <td>NAP</td>\n",
       "      <td>138</td>\n",
       "      <td>175</td>\n",
       "      <td>0</td>\n",
       "      <td>Normal</td>\n",
       "      <td>173</td>\n",
       "      <td>N</td>\n",
       "      <td>0.0</td>\n",
       "      <td>Up</td>\n",
       "      <td>0</td>\n",
       "    </tr>\n",
       "  </tbody>\n",
       "</table>\n",
       "<p>918 rows × 12 columns</p>\n",
       "</div>"
      ],
      "text/plain": [
       "     Age Sex ChestPainType  RestingBP  Cholesterol  FastingBS RestingECG  \\\n",
       "0     40   M           ATA        140          289          0     Normal   \n",
       "1     49   F           NAP        160          180          0     Normal   \n",
       "2     37   M           ATA        130          283          0         ST   \n",
       "3     48   F           ASY        138          214          0     Normal   \n",
       "4     54   M           NAP        150          195          0     Normal   \n",
       "..   ...  ..           ...        ...          ...        ...        ...   \n",
       "913   45   M            TA        110          264          0     Normal   \n",
       "914   68   M           ASY        144          193          1     Normal   \n",
       "915   57   M           ASY        130          131          0     Normal   \n",
       "916   57   F           ATA        130          236          0        LVH   \n",
       "917   38   M           NAP        138          175          0     Normal   \n",
       "\n",
       "     MaxHR ExerciseAngina  Oldpeak ST_Slope  HeartDisease  \n",
       "0      172              N      0.0       Up             0  \n",
       "1      156              N      1.0     Flat             1  \n",
       "2       98              N      0.0       Up             0  \n",
       "3      108              Y      1.5     Flat             1  \n",
       "4      122              N      0.0       Up             0  \n",
       "..     ...            ...      ...      ...           ...  \n",
       "913    132              N      1.2     Flat             1  \n",
       "914    141              N      3.4     Flat             1  \n",
       "915    115              Y      1.2     Flat             1  \n",
       "916    174              N      0.0     Flat             1  \n",
       "917    173              N      0.0       Up             0  \n",
       "\n",
       "[918 rows x 12 columns]"
      ]
     },
     "execution_count": 3,
     "metadata": {},
     "output_type": "execute_result"
    }
   ],
   "source": [
    "# Read data\n",
    "data = pd.read_csv('heart.csv')\n",
    "\n",
    "# Tampilkan data\n",
    "data"
   ]
  },
  {
   "cell_type": "code",
   "execution_count": 3,
   "metadata": {
    "colab": {
     "base_uri": "https://localhost:8080/",
     "height": 300
    },
    "id": "3llqzNt1mcJn",
    "outputId": "b21cbaa6-5690-4ccf-8936-8a4babe7f05f"
   },
   "outputs": [
    {
     "data": {
      "text/html": [
       "<div>\n",
       "<style scoped>\n",
       "    .dataframe tbody tr th:only-of-type {\n",
       "        vertical-align: middle;\n",
       "    }\n",
       "\n",
       "    .dataframe tbody tr th {\n",
       "        vertical-align: top;\n",
       "    }\n",
       "\n",
       "    .dataframe thead th {\n",
       "        text-align: right;\n",
       "    }\n",
       "</style>\n",
       "<table border=\"1\" class=\"dataframe\">\n",
       "  <thead>\n",
       "    <tr style=\"text-align: right;\">\n",
       "      <th></th>\n",
       "      <th>Age</th>\n",
       "      <th>RestingBP</th>\n",
       "      <th>Cholesterol</th>\n",
       "      <th>FastingBS</th>\n",
       "      <th>MaxHR</th>\n",
       "      <th>Oldpeak</th>\n",
       "      <th>HeartDisease</th>\n",
       "    </tr>\n",
       "  </thead>\n",
       "  <tbody>\n",
       "    <tr>\n",
       "      <th>count</th>\n",
       "      <td>918.000000</td>\n",
       "      <td>918.000000</td>\n",
       "      <td>918.000000</td>\n",
       "      <td>918.000000</td>\n",
       "      <td>918.000000</td>\n",
       "      <td>918.000000</td>\n",
       "      <td>918.000000</td>\n",
       "    </tr>\n",
       "    <tr>\n",
       "      <th>mean</th>\n",
       "      <td>53.510893</td>\n",
       "      <td>132.396514</td>\n",
       "      <td>198.799564</td>\n",
       "      <td>0.233115</td>\n",
       "      <td>136.809368</td>\n",
       "      <td>0.887364</td>\n",
       "      <td>0.553377</td>\n",
       "    </tr>\n",
       "    <tr>\n",
       "      <th>std</th>\n",
       "      <td>9.432617</td>\n",
       "      <td>18.514154</td>\n",
       "      <td>109.384145</td>\n",
       "      <td>0.423046</td>\n",
       "      <td>25.460334</td>\n",
       "      <td>1.066570</td>\n",
       "      <td>0.497414</td>\n",
       "    </tr>\n",
       "    <tr>\n",
       "      <th>min</th>\n",
       "      <td>28.000000</td>\n",
       "      <td>0.000000</td>\n",
       "      <td>0.000000</td>\n",
       "      <td>0.000000</td>\n",
       "      <td>60.000000</td>\n",
       "      <td>-2.600000</td>\n",
       "      <td>0.000000</td>\n",
       "    </tr>\n",
       "    <tr>\n",
       "      <th>25%</th>\n",
       "      <td>47.000000</td>\n",
       "      <td>120.000000</td>\n",
       "      <td>173.250000</td>\n",
       "      <td>0.000000</td>\n",
       "      <td>120.000000</td>\n",
       "      <td>0.000000</td>\n",
       "      <td>0.000000</td>\n",
       "    </tr>\n",
       "    <tr>\n",
       "      <th>50%</th>\n",
       "      <td>54.000000</td>\n",
       "      <td>130.000000</td>\n",
       "      <td>223.000000</td>\n",
       "      <td>0.000000</td>\n",
       "      <td>138.000000</td>\n",
       "      <td>0.600000</td>\n",
       "      <td>1.000000</td>\n",
       "    </tr>\n",
       "    <tr>\n",
       "      <th>75%</th>\n",
       "      <td>60.000000</td>\n",
       "      <td>140.000000</td>\n",
       "      <td>267.000000</td>\n",
       "      <td>0.000000</td>\n",
       "      <td>156.000000</td>\n",
       "      <td>1.500000</td>\n",
       "      <td>1.000000</td>\n",
       "    </tr>\n",
       "    <tr>\n",
       "      <th>max</th>\n",
       "      <td>77.000000</td>\n",
       "      <td>200.000000</td>\n",
       "      <td>603.000000</td>\n",
       "      <td>1.000000</td>\n",
       "      <td>202.000000</td>\n",
       "      <td>6.200000</td>\n",
       "      <td>1.000000</td>\n",
       "    </tr>\n",
       "  </tbody>\n",
       "</table>\n",
       "</div>"
      ],
      "text/plain": [
       "              Age   RestingBP  Cholesterol   FastingBS       MaxHR  \\\n",
       "count  918.000000  918.000000   918.000000  918.000000  918.000000   \n",
       "mean    53.510893  132.396514   198.799564    0.233115  136.809368   \n",
       "std      9.432617   18.514154   109.384145    0.423046   25.460334   \n",
       "min     28.000000    0.000000     0.000000    0.000000   60.000000   \n",
       "25%     47.000000  120.000000   173.250000    0.000000  120.000000   \n",
       "50%     54.000000  130.000000   223.000000    0.000000  138.000000   \n",
       "75%     60.000000  140.000000   267.000000    0.000000  156.000000   \n",
       "max     77.000000  200.000000   603.000000    1.000000  202.000000   \n",
       "\n",
       "          Oldpeak  HeartDisease  \n",
       "count  918.000000    918.000000  \n",
       "mean     0.887364      0.553377  \n",
       "std      1.066570      0.497414  \n",
       "min     -2.600000      0.000000  \n",
       "25%      0.000000      0.000000  \n",
       "50%      0.600000      1.000000  \n",
       "75%      1.500000      1.000000  \n",
       "max      6.200000      1.000000  "
      ]
     },
     "execution_count": 3,
     "metadata": {},
     "output_type": "execute_result"
    }
   ],
   "source": [
    "data.describe()"
   ]
  },
  {
   "cell_type": "code",
   "execution_count": 4,
   "metadata": {
    "colab": {
     "base_uri": "https://localhost:8080/"
    },
    "id": "tl8vrN5NmpmE",
    "outputId": "b8db489d-8c96-4940-a9db-c4639352eea2"
   },
   "outputs": [
    {
     "name": "stdout",
     "output_type": "stream",
     "text": [
      "<class 'pandas.core.frame.DataFrame'>\n",
      "RangeIndex: 918 entries, 0 to 917\n",
      "Data columns (total 12 columns):\n",
      " #   Column          Non-Null Count  Dtype  \n",
      "---  ------          --------------  -----  \n",
      " 0   Age             918 non-null    int64  \n",
      " 1   Sex             918 non-null    object \n",
      " 2   ChestPainType   918 non-null    object \n",
      " 3   RestingBP       918 non-null    int64  \n",
      " 4   Cholesterol     918 non-null    int64  \n",
      " 5   FastingBS       918 non-null    int64  \n",
      " 6   RestingECG      918 non-null    object \n",
      " 7   MaxHR           918 non-null    int64  \n",
      " 8   ExerciseAngina  918 non-null    object \n",
      " 9   Oldpeak         918 non-null    float64\n",
      " 10  ST_Slope        918 non-null    object \n",
      " 11  HeartDisease    918 non-null    int64  \n",
      "dtypes: float64(1), int64(6), object(5)\n",
      "memory usage: 86.2+ KB\n"
     ]
    }
   ],
   "source": [
    "data.info()"
   ]
  },
  {
   "cell_type": "code",
   "execution_count": 5,
   "metadata": {
    "colab": {
     "base_uri": "https://localhost:8080/",
     "height": 460
    },
    "id": "KS5bC8B3nheV",
    "outputId": "1e2d3f13-f118-4238-83cb-8097b1a2e524"
   },
   "outputs": [
    {
     "data": {
      "text/plain": [
       "Age               0\n",
       "Sex               0\n",
       "ChestPainType     0\n",
       "RestingBP         0\n",
       "Cholesterol       0\n",
       "FastingBS         0\n",
       "RestingECG        0\n",
       "MaxHR             0\n",
       "ExerciseAngina    0\n",
       "Oldpeak           0\n",
       "ST_Slope          0\n",
       "HeartDisease      0\n",
       "dtype: int64"
      ]
     },
     "execution_count": 5,
     "metadata": {},
     "output_type": "execute_result"
    }
   ],
   "source": [
    "# Cek Missing value\n",
    "data.isnull().sum()"
   ]
  },
  {
   "cell_type": "code",
   "execution_count": 6,
   "metadata": {
    "colab": {
     "base_uri": "https://localhost:8080/"
    },
    "id": "rRl4G3d5onmn",
    "outputId": "5f3a171e-c072-4921-d516-77fcbabc0f08"
   },
   "outputs": [
    {
     "data": {
      "text/plain": [
       "0"
      ]
     },
     "execution_count": 6,
     "metadata": {},
     "output_type": "execute_result"
    }
   ],
   "source": [
    "# Cek Duplikat\n",
    "data.duplicated().sum()"
   ]
  },
  {
   "cell_type": "markdown",
   "metadata": {
    "id": "UQ5fy8PlN5j-"
   },
   "source": [
    "Dataset ini berisi informasi tentang pasien, yang dapat digunakan untuk memprediksi apakah mereka memiliki penyakit jantung atau tidak.\n",
    "\n",
    "| Nama Kolom       | Tipe Data | Deskripsi                                                                 |\n",
    "|-------------------|-----------|---------------------------------------------------------------------------|\n",
    "| `Age`            | Numerik   | Usia pasien dalam tahun.                                                 |\n",
    "| `Sex`            | Kategorikal | Jenis kelamin pasien: `M` untuk laki-laki, `F` untuk perempuan.          |\n",
    "| `ChestPainType`  | Kategorikal | Tipe nyeri dada:                                                        |\n",
    "|                   |           | - `TA`: Typical Angina (Angina khas).                                   |\n",
    "|                   |           | - `ATA`: Atypical Angina (Angina tidak khas).                           |\n",
    "|                   |           | - `NAP`: Non-Anginal Pain (Nyeri bukan angina).                        |\n",
    "|                   |           | - `ASY`: Asymptomatic (Tidak bergejala).                                |\n",
    "| `RestingBP`      | Numerik   | Tekanan darah istirahat dalam mmHg.                                      |\n",
    "| `Cholesterol`    | Numerik   | Tingkat kolesterol serum dalam mg/dL.                                    |\n",
    "| `FastingBS`      | Kategorikal | Kadar gula darah puasa: `1` jika >120 mg/dL, `0` jika ≤120 mg/dL.       |\n",
    "| `RestingECG`     | Kategorikal | Hasil pemeriksaan elektrokardiografi istirahat:                         |\n",
    "|                   |           | - `Normal`: Normal.                                                     |\n",
    "|                   |           | - `ST`: Abnormalitas gelombang ST-T (contoh: inversi gelombang T).     |\n",
    "|                   |           | - `LVH`: Menunjukkan hipertrofi ventrikel kiri.                         |\n",
    "| `MaxHR`          | Numerik   | Detak jantung maksimum yang tercapai selama uji.                        |\n",
    "| `ExerciseAngina` | Kategorikal | Angina yang dipicu oleh olahraga: `Y` (Ya), `N` (Tidak).                |\n",
    "| `Oldpeak`        | Numerik   | Depresi ST yang diinduksi oleh olahraga relatif terhadap istirahat.      |\n",
    "| `ST_Slope`       | Kategorikal | Kemiringan segmen ST:                                                   |\n",
    "|                   |           | - `Up`: Kemiringan naik.                                                |\n",
    "|                   |           | - `Flat`: Kemiringan datar.                                             |\n",
    "|                   |           | - `Down`: Kemiringan turun.                                             |\n",
    "| `HeartDisease`   | Kategorikal | Target prediksi: `1` jika pasien memiliki penyakit jantung, `0` jika tidak. |\n",
    "\n",
    "---"
   ]
  },
  {
   "cell_type": "markdown",
   "metadata": {
    "id": "N2lvRA0Hn4Fn"
   },
   "source": [
    "# Exploratory Data Analysis (EDA)"
   ]
  },
  {
   "cell_type": "code",
   "execution_count": 7,
   "metadata": {
    "colab": {
     "base_uri": "https://localhost:8080/",
     "height": 466
    },
    "id": "MKGJVy6EyVQa",
    "outputId": "0cda32ea-b02c-4be6-aefb-21f415a9be2e"
   },
   "outputs": [
    {
     "data": {
      "text/plain": [
       "<Axes: xlabel='Age', ylabel='Density'>"
      ]
     },
     "execution_count": 7,
     "metadata": {},
     "output_type": "execute_result"
    },
    {
     "data": {
      "image/png": "[encoded data removed]",
      "text/plain": [
       "<Figure size 640x480 with 1 Axes>"
      ]
     },
     "metadata": {},
     "output_type": "display_data"
    }
   ],
   "source": [
    "data['Age']\n",
    "\n",
    "sns.distplot(data['Age'], kde = True, hist = True)"
   ]
  },
  {
   "cell_type": "markdown",
   "metadata": {
    "id": "0i86WB0LynJw"
   },
   "source": [
    "**Insight**: Usia termuda yang mempunyai masalah jantung adalah sekitar 30 tahun, dan tertua sekitar 80 tahun, tetapi sebagian besar data berkisar antara 40 hingga 70 tahun. Ini berarti bahwa orang-orang yang berusia antara 30 dan 80 tahun mungkin mengalami masalah jantung, tetapi mereka yang berusia antara 40 dan 70 tahun lebih sering terkena. Selain itu, individu yang berusia sekitar 55 tahun memiliki risiko tertinggi untuk mengalami masalah jantung."
   ]
  },
  {
   "cell_type": "code",
   "execution_count": 8,
   "metadata": {
    "colab": {
     "base_uri": "https://localhost:8080/",
     "height": 523
    },
    "id": "Di8BRMH9TZYC",
    "outputId": "5243a576-c62d-4452-c469-8cdd6c9bc987"
   },
   "outputs": [
    {
     "data": {
      "text/plain": [
       "<seaborn.axisgrid.FacetGrid at 0x26a50dbd010>"
      ]
     },
     "execution_count": 8,
     "metadata": {},
     "output_type": "execute_result"
    },
    {
     "data": {
      "image/png": "[encoded data removed]",
      "text/plain": [
       "<Figure size 500x500 with 1 Axes>"
      ]
     },
     "metadata": {},
     "output_type": "display_data"
    }
   ],
   "source": [
    "sns.displot(data['MaxHR'], kde = True, color = 'green')"
   ]
  },
  {
   "cell_type": "markdown",
   "metadata": {
    "id": "G_9hX9N_TjXB"
   },
   "source": [
    "**Insight**: terdapat 100+ orang yang memiliki MaxHR(Max Heart Rate) normal di sekitar 120-140"
   ]
  },
  {
   "cell_type": "code",
   "execution_count": 9,
   "metadata": {
    "colab": {
     "base_uri": "https://localhost:8080/",
     "height": 523
    },
    "id": "3gSFSiV2y53m",
    "outputId": "6c80a700-2463-4760-af62-1bc77c1a1068"
   },
   "outputs": [
    {
     "data": {
      "text/plain": [
       "<seaborn.axisgrid.FacetGrid at 0x26a50ddb740>"
      ]
     },
     "execution_count": 9,
     "metadata": {},
     "output_type": "execute_result"
    },
    {
     "data": {
      "image/png": "[encoded data removed]",
      "text/plain": [
       "<Figure size 500x500 with 1 Axes>"
      ]
     },
     "metadata": {},
     "output_type": "display_data"
    }
   ],
   "source": [
    "sns.displot(data['RestingBP'], kde = True, color = 'green')"
   ]
  },
  {
   "cell_type": "markdown",
   "metadata": {
    "id": "ctr6VuFPy9U4"
   },
   "source": [
    "**Insight**: RestingBP (resting Blood Pressure) datanya berada dalam kisaran 100 hingga 200 dan kurvanya dimulai dari 0 tetapi hanya terletak pada sumbu x, karena tekanan darah 0 tidak mungkin terjadi, dan tekanan darah tertinggi mencapai 140+"
   ]
  },
  {
   "cell_type": "code",
   "execution_count": 10,
   "metadata": {
    "colab": {
     "base_uri": "https://localhost:8080/",
     "height": 523
    },
    "id": "mlaIdsqg0WMI",
    "outputId": "8ffc5259-6349-4ef1-bd26-390aa2915b68"
   },
   "outputs": [
    {
     "data": {
      "text/plain": [
       "<seaborn.axisgrid.FacetGrid at 0x26a5486bf80>"
      ]
     },
     "execution_count": 10,
     "metadata": {},
     "output_type": "execute_result"
    },
    {
     "data": {
      "image/png": "[encoded data removed]",
      "text/plain": [
       "<Figure size 500x500 with 1 Axes>"
      ]
     },
     "metadata": {},
     "output_type": "display_data"
    }
   ],
   "source": [
    "sns.displot(data['Cholesterol'], kde = True, color = 'blue')\n"
   ]
  },
  {
   "cell_type": "markdown",
   "metadata": {
    "id": "tFHQSCQO0ZCu"
   },
   "source": [
    "**Insight**: KOLESTEROL, sebagian besar data menunjukkan angka 0, yang menunjukkan bahwa banyak orang memiliki kadar kolesterol 0. Namun, beberapa orang juga berada dalam kisaran 100 hingga 400"
   ]
  },
  {
   "cell_type": "code",
   "execution_count": 11,
   "metadata": {
    "colab": {
     "base_uri": "https://localhost:8080/",
     "height": 178
    },
    "id": "9w18oqeHuMN6",
    "outputId": "d2503d12-214a-47c4-ebec-1cececce0e5a"
   },
   "outputs": [
    {
     "data": {
      "text/plain": [
       "Sex\n",
       "F    193\n",
       "M    725\n",
       "dtype: int64"
      ]
     },
     "execution_count": 11,
     "metadata": {},
     "output_type": "execute_result"
    }
   ],
   "source": [
    "data.groupby('Sex').size()"
   ]
  },
  {
   "cell_type": "markdown",
   "metadata": {
    "id": "Mss5MsTiuXk2"
   },
   "source": [
    "**Insigh**t: terdapat 193 perempuan, yaitu 21%, dan 725 laki-laki, yaitu 79% berdasarkan dataset ini"
   ]
  },
  {
   "cell_type": "code",
   "execution_count": 12,
   "metadata": {
    "colab": {
     "base_uri": "https://localhost:8080/",
     "height": 423
    },
    "id": "H51hJMqDstaV",
    "outputId": "f66684ac-ffcf-469a-dbfa-d9aad12a8b10"
   },
   "outputs": [
    {
     "data": {
      "text/plain": [
       "<Axes: >"
      ]
     },
     "execution_count": 12,
     "metadata": {},
     "output_type": "execute_result"
    },
    {
     "data": {
      "image/png": "[encoded data removed]",
      "text/plain": [
       "<Figure size 640x480 with 1 Axes>"
      ]
     },
     "metadata": {},
     "output_type": "display_data"
    }
   ],
   "source": [
    "data.groupby('Sex').size().plot(kind = 'pie', autopct = '%0.1f')\n"
   ]
  },
  {
   "cell_type": "markdown",
   "metadata": {
    "id": "oEO3xlhzua6O"
   },
   "source": [
    "**Insight**: Di dataset ini pasien yang ber jenis kelamin F (Wanita) itu 21% dan M (laki-laki) itu 79%"
   ]
  },
  {
   "cell_type": "code",
   "execution_count": 13,
   "metadata": {
    "colab": {
     "base_uri": "https://localhost:8080/",
     "height": 423
    },
    "id": "33pc9Qppsyho",
    "outputId": "4e4d64ae-70ec-4535-ab72-f95634622aa0"
   },
   "outputs": [
    {
     "data": {
      "text/plain": [
       "<Axes: >"
      ]
     },
     "execution_count": 13,
     "metadata": {},
     "output_type": "execute_result"
    },
    {
     "data": {
      "image/png": "[encoded data removed]",
      "text/plain": [
       "<Figure size 640x480 with 1 Axes>"
      ]
     },
     "metadata": {},
     "output_type": "display_data"
    }
   ],
   "source": [
    "data.groupby('ChestPainType').size().plot(kind = 'pie', autopct = '%.1f')"
   ]
  },
  {
   "cell_type": "markdown",
   "metadata": {
    "id": "vvYFS1cIuzjQ"
   },
   "source": [
    "**Insight**: Sebagian besar pasien (54%) mengalami ASY (Asymptomatic) atau tanpa gejala nyeri dada yang jelas, meskipun berpotensi memiliki risiko penyakit jantung. Sementara itu, 22,1% mengalami NAP (Non-Anginal Pain), nyeri dada yang tidak terkait langsung dengan jantung.\n",
    "\n",
    "Selain itu, 18,8% pasien melaporkan ATA (Atypical Angina), nyeri dada yang sulit dikaitkan langsung dengan angina klasik(berkurangnya aliran darah ke otot jantung). Hanya 5% pasien yang mengalami TA (Typical Angina), yaitu nyeri dada akibat penyakit jantung yang muncul saat aktivitas atau stres.\n",
    "\n",
    "Mayoritas pasien berada dalam kategori ASY (Asymptomatic), yang menandakan tantangan dalam mendeteksi penyakit jantung dini. Penting untuk meningkatkan kesadaran terkait risiko tersembunyi pada pasien tanpa gejala jelas."
   ]
  },
  {
   "cell_type": "code",
   "execution_count": 14,
   "metadata": {
    "colab": {
     "base_uri": "https://localhost:8080/",
     "height": 423
    },
    "id": "xxUOH3BBs3hi",
    "outputId": "c263e91a-8edf-4aca-a2fa-33bb91b2d089"
   },
   "outputs": [
    {
     "data": {
      "text/plain": [
       "<Axes: >"
      ]
     },
     "execution_count": 14,
     "metadata": {},
     "output_type": "execute_result"
    },
    {
     "data": {
      "image/png": "[encoded data removed]",
      "text/plain": [
       "<Figure size 640x480 with 1 Axes>"
      ]
     },
     "metadata": {},
     "output_type": "display_data"
    }
   ],
   "source": [
    "data.groupby('RestingECG').size().plot(kind = 'pie', autopct = '%.1f')"
   ]
  },
  {
   "cell_type": "markdown",
   "metadata": {
    "id": "b9oqpWIOv4lD"
   },
   "source": [
    "**Insight**: Mayoritas pasien (60,1%) memiliki hasil Normal pada pemeriksaan, menunjukkan tidak adanya kelainan. Namun, 20,5% menunjukkan tanda LVH (Left Ventricular Hypertrophy), kondisi di mana otot ventrikel kiri menebal, yang sering kali dikaitkan dengan hipertensi atau peningkatan beban kerja jantung.\n",
    "\n",
    "Sementara itu, 19,4% pasien memiliki hasil ST, yang mengacu pada perubahan pada segmen ST di grafik elektrokardiogram (ECG). Segmen ini menggambarkan fase pemulihan jantung setelah kontraksi, dan perubahan ini bisa mengindikasikan adanya gangguan jantung seperti iskemia atau cedera jantung.\n",
    "\n",
    "Sebagian besar hasil menunjukkan kondisi Normal, namun hampir 40% pasien mengalami potensi gangguan jantung seperti LVH atau ST. Deteksi dini dan pemantauan rutin penting dilakukan untuk mencegah komplikasi lebih lanjut."
   ]
  },
  {
   "cell_type": "markdown",
   "metadata": {
    "id": "oEEAC5R9P47W"
   },
   "source": [
    "# Feature Engineering"
   ]
  },
  {
   "cell_type": "code",
   "execution_count": null,
   "metadata": {},
   "outputs": [],
   "source": [
    "# Split Data\n",
    "X = data.drop(columns=['HeartDisease'])\n",
    "y = data['HeartDisease']"
   ]
  },
  {
   "cell_type": "markdown",
   "metadata": {},
   "source": [
    "## Split Data Train dan Test"
   ]
  },
  {
   "cell_type": "code",
   "execution_count": null,
   "metadata": {},
   "outputs": [],
   "source": [
    "X_train, X_test, y_train, y_test = train_test_split(X, y, test_size=0.2, random_state=42, stratify=y)"
   ]
  },
  {
   "cell_type": "code",
   "execution_count": 4,
   "metadata": {
    "colab": {
     "base_uri": "https://localhost:8080/"
    },
    "id": "n9hkM6qqjmY-",
    "outputId": "b2aaacbf-0a6a-40cb-b8d6-b6025e22d9a6"
   },
   "outputs": [
    {
     "name": "stdout",
     "output_type": "stream",
     "text": [
      "         Column  Lower Bound  Upper Bound  Outliers Count  Outliers Percent\n",
      "0           Age       27.500       79.500               0          0.000000\n",
      "1     RestingBP       90.000      170.000              28          3.050109\n",
      "2   Cholesterol       32.625      407.625             183         19.934641\n",
      "3     FastingBS        0.000        0.000             214         23.311547\n",
      "4         MaxHR       66.000      210.000               2          0.217865\n",
      "5       Oldpeak       -2.250        3.750              16          1.742919\n",
      "6  HeartDisease       -1.500        2.500               0          0.000000\n"
     ]
    }
   ],
   "source": [
    "# Pilih kolom numerik\n",
    "numeric_columns = data.select_dtypes(include=['int64', 'float64']).columns\n",
    "\n",
    "# Periksa outlier menggunakan IQR untuk setiap kolom\n",
    "outlier_info = []\n",
    "for col in numeric_columns:\n",
    "    Q1 = data[col].quantile(0.25)\n",
    "    Q3 = data[col].quantile(0.75)\n",
    "    IQR = Q3 - Q1\n",
    "    lower_bound = Q1 - 1.5 * IQR\n",
    "    upper_bound = Q3 + 1.5 * IQR\n",
    "\n",
    "    # Hitung jumlah outlier\n",
    "    outliers = data[(data[col] < lower_bound) | (data[col] > upper_bound)]\n",
    "    outlier_info.append({\n",
    "        'Column': col,\n",
    "        'Lower Bound': lower_bound,\n",
    "        'Upper Bound': upper_bound,\n",
    "        'Outliers Count': len(outliers),\n",
    "        'Outliers Percent': len(outliers) / len(data) * 100\n",
    "    })\n",
    "\n",
    "# Buat DataFrame untuk informasi outlier\n",
    "outlier_data = pd.DataFrame(outlier_info)\n",
    "print(outlier_data)\n"
   ]
  },
  {
   "cell_type": "markdown",
   "metadata": {},
   "source": [
    "## Cek Outlier"
   ]
  },
  {
   "cell_type": "code",
   "execution_count": 5,
   "metadata": {},
   "outputs": [
    {
     "data": {
      "text/html": [
       "<div>\n",
       "<style scoped>\n",
       "    .dataframe tbody tr th:only-of-type {\n",
       "        vertical-align: middle;\n",
       "    }\n",
       "\n",
       "    .dataframe tbody tr th {\n",
       "        vertical-align: top;\n",
       "    }\n",
       "\n",
       "    .dataframe thead th {\n",
       "        text-align: right;\n",
       "    }\n",
       "</style>\n",
       "<table border=\"1\" class=\"dataframe\">\n",
       "  <thead>\n",
       "    <tr style=\"text-align: right;\">\n",
       "      <th></th>\n",
       "      <th>Column</th>\n",
       "      <th>Age</th>\n",
       "      <th>RestingBP</th>\n",
       "      <th>Cholesterol</th>\n",
       "      <th>FastingBS</th>\n",
       "      <th>MaxHR</th>\n",
       "      <th>Oldpeak</th>\n",
       "      <th>HeartDisease</th>\n",
       "    </tr>\n",
       "  </thead>\n",
       "  <tbody>\n",
       "    <tr>\n",
       "      <th>0</th>\n",
       "      <td>Total Outliers</td>\n",
       "      <td>0.0</td>\n",
       "      <td>28.0</td>\n",
       "      <td>183.000</td>\n",
       "      <td>214.0</td>\n",
       "      <td>2.0</td>\n",
       "      <td>16.00</td>\n",
       "      <td>0.0</td>\n",
       "    </tr>\n",
       "    <tr>\n",
       "      <th>1</th>\n",
       "      <td>Lower Bound</td>\n",
       "      <td>27.5</td>\n",
       "      <td>90.0</td>\n",
       "      <td>32.625</td>\n",
       "      <td>0.0</td>\n",
       "      <td>66.0</td>\n",
       "      <td>-2.25</td>\n",
       "      <td>-1.5</td>\n",
       "    </tr>\n",
       "    <tr>\n",
       "      <th>2</th>\n",
       "      <td>Upper Bound</td>\n",
       "      <td>79.5</td>\n",
       "      <td>170.0</td>\n",
       "      <td>407.625</td>\n",
       "      <td>0.0</td>\n",
       "      <td>210.0</td>\n",
       "      <td>3.75</td>\n",
       "      <td>2.5</td>\n",
       "    </tr>\n",
       "  </tbody>\n",
       "</table>\n",
       "</div>"
      ],
      "text/plain": [
       "           Column   Age  RestingBP  Cholesterol  FastingBS  MaxHR  Oldpeak  \\\n",
       "0  Total Outliers   0.0       28.0      183.000      214.0    2.0    16.00   \n",
       "1     Lower Bound  27.5       90.0       32.625        0.0   66.0    -2.25   \n",
       "2     Upper Bound  79.5      170.0      407.625        0.0  210.0     3.75   \n",
       "\n",
       "   HeartDisease  \n",
       "0           0.0  \n",
       "1          -1.5  \n",
       "2           2.5  "
      ]
     },
     "execution_count": 5,
     "metadata": {},
     "output_type": "execute_result"
    }
   ],
   "source": [
    "# Mengidentifikasi kolom numerik\n",
    "numerical_columns = data.select_dtypes(include=['int64', 'float64']).columns\n",
    "\n",
    "# Fungsi untuk mendeteksi outlier menggunakan IQR\n",
    "def detect_outliers_iqr(data, column):\n",
    "    Q1 = data[column].quantile(0.25)\n",
    "    Q3 = data[column].quantile(0.75)\n",
    "    IQR = Q3 - Q1\n",
    "    lower_bound = Q1 - 1.5 * IQR\n",
    "    upper_bound = Q3 + 1.5 * IQR\n",
    "    outliers = data[(data[column] < lower_bound) | (data[column] > upper_bound)]\n",
    "    return outliers, lower_bound, upper_bound\n",
    "\n",
    "# Mengecek outlier untuk setiap kolom numerik\n",
    "outlier_summary = {}\n",
    "for col in numerical_columns:\n",
    "    outliers, lower, upper = detect_outliers_iqr(data, col)\n",
    "    outlier_summary[col] = {\n",
    "        \"Total Outliers\": outliers.shape[0],\n",
    "        \"Lower Bound\": lower,\n",
    "        \"Upper Bound\": upper\n",
    "    }\n",
    "\n",
    "# Konversi hasil outlier ke DataFrame\n",
    "outlier_df = pd.DataFrame(outlier_summary)\n",
    "outlier_df.reset_index(inplace=True)\n",
    "outlier_df.rename(columns={'index': 'Column'}, inplace=True)\n",
    "outlier_df\n",
    "\n"
   ]
  },
  {
   "cell_type": "markdown",
   "metadata": {},
   "source": [
    "## Handling Outlier"
   ]
  },
  {
   "cell_type": "code",
   "execution_count": 11,
   "metadata": {},
   "outputs": [
    {
     "data": {
      "text/html": [
       "<div>\n",
       "<style scoped>\n",
       "    .dataframe tbody tr th:only-of-type {\n",
       "        vertical-align: middle;\n",
       "    }\n",
       "\n",
       "    .dataframe tbody tr th {\n",
       "        vertical-align: top;\n",
       "    }\n",
       "\n",
       "    .dataframe thead th {\n",
       "        text-align: right;\n",
       "    }\n",
       "</style>\n",
       "<table border=\"1\" class=\"dataframe\">\n",
       "  <thead>\n",
       "    <tr style=\"text-align: right;\">\n",
       "      <th></th>\n",
       "      <th>Column</th>\n",
       "      <th>Total Outliers</th>\n",
       "      <th>Lower Bound</th>\n",
       "      <th>Upper Bound</th>\n",
       "    </tr>\n",
       "  </thead>\n",
       "  <tbody>\n",
       "    <tr>\n",
       "      <th>0</th>\n",
       "      <td>Age</td>\n",
       "      <td>0.0</td>\n",
       "      <td>27.500</td>\n",
       "      <td>79.500</td>\n",
       "    </tr>\n",
       "    <tr>\n",
       "      <th>1</th>\n",
       "      <td>RestingBP</td>\n",
       "      <td>0.0</td>\n",
       "      <td>90.000</td>\n",
       "      <td>170.000</td>\n",
       "    </tr>\n",
       "    <tr>\n",
       "      <th>2</th>\n",
       "      <td>Cholesterol</td>\n",
       "      <td>26.0</td>\n",
       "      <td>160.375</td>\n",
       "      <td>311.375</td>\n",
       "    </tr>\n",
       "    <tr>\n",
       "      <th>3</th>\n",
       "      <td>FastingBS</td>\n",
       "      <td>0.0</td>\n",
       "      <td>0.000</td>\n",
       "      <td>0.000</td>\n",
       "    </tr>\n",
       "    <tr>\n",
       "      <th>4</th>\n",
       "      <td>MaxHR</td>\n",
       "      <td>0.0</td>\n",
       "      <td>66.000</td>\n",
       "      <td>210.000</td>\n",
       "    </tr>\n",
       "    <tr>\n",
       "      <th>5</th>\n",
       "      <td>Oldpeak</td>\n",
       "      <td>0.0</td>\n",
       "      <td>-2.250</td>\n",
       "      <td>3.750</td>\n",
       "    </tr>\n",
       "    <tr>\n",
       "      <th>6</th>\n",
       "      <td>HeartDisease</td>\n",
       "      <td>0.0</td>\n",
       "      <td>-1.500</td>\n",
       "      <td>2.500</td>\n",
       "    </tr>\n",
       "  </tbody>\n",
       "</table>\n",
       "</div>"
      ],
      "text/plain": [
       "         Column  Total Outliers  Lower Bound  Upper Bound\n",
       "0           Age             0.0       27.500       79.500\n",
       "1     RestingBP             0.0       90.000      170.000\n",
       "2   Cholesterol            26.0      160.375      311.375\n",
       "3     FastingBS             0.0        0.000        0.000\n",
       "4         MaxHR             0.0       66.000      210.000\n",
       "5       Oldpeak             0.0       -2.250        3.750\n",
       "6  HeartDisease             0.0       -1.500        2.500"
      ]
     },
     "execution_count": 11,
     "metadata": {},
     "output_type": "execute_result"
    }
   ],
   "source": [
    "# Mengidentifikasi kolom numerik\n",
    "numerical_columns = data.select_dtypes(include=['int64', 'float64']).columns\n",
    "\n",
    "# Fungsi untuk mendeteksi outlier menggunakan IQR\n",
    "def detect_outliers_iqr(data, column):\n",
    "    Q1 = data[column].quantile(0.25)\n",
    "    Q3 = data[column].quantile(0.75)\n",
    "    IQR = Q3 - Q1\n",
    "    lower_bound = Q1 - 1.5 * IQR\n",
    "    upper_bound = Q3 + 1.5 * IQR\n",
    "    outliers = data[(data[column] < lower_bound) | (data[column] > upper_bound)]\n",
    "    return outliers, lower_bound, upper_bound\n",
    "\n",
    "# Fungsi untuk menangani outlier\n",
    "def handle_outliers(data, column, method=\"remove\", replacement_value=None):\n",
    "    \"\"\"\n",
    "    method: \"remove\" untuk menghapus outlier, \"replace\" untuk mengganti outlier.\n",
    "    replacement_value: Nilai pengganti jika method=\"replace\".\n",
    "    \"\"\"\n",
    "    outliers, lower_bound, upper_bound = detect_outliers_iqr(data, column)\n",
    "    if method == \"remove\":\n",
    "        data = data[(data[column] >= lower_bound) & (data[column] <= upper_bound)]\n",
    "    elif method == \"replace\":\n",
    "        if replacement_value is None:\n",
    "            # Default mengganti dengan median\n",
    "            replacement_value = data[column].median()\n",
    "        data.loc[data[column] < lower_bound, column] = replacement_value\n",
    "        data.loc[data[column] > upper_bound, column] = replacement_value\n",
    "    return data\n",
    "\n",
    "# Mengecek outlier untuk setiap kolom numerik\n",
    "outlier_summary = {}\n",
    "for col in numerical_columns:\n",
    "    outliers, lower, upper = detect_outliers_iqr(data, col)\n",
    "    outlier_summary[col] = {\n",
    "        \"Total Outliers\": outliers.shape[0],\n",
    "        \"Lower Bound\": lower,\n",
    "        \"Upper Bound\": upper\n",
    "    }\n",
    "\n",
    "# Konversi hasil outlier ke DataFrame\n",
    "outlier_df = pd.DataFrame(outlier_summary).transpose()\n",
    "outlier_df.reset_index(inplace=True)\n",
    "outlier_df.rename(columns={'index': 'Column'}, inplace=True)\n",
    "\n",
    "data_outhandling = pd.DataFrame(outlier_df)\n",
    "data_outhandling\n"
   ]
  },
  {
   "cell_type": "code",
   "execution_count": 16,
   "metadata": {
    "colab": {
     "base_uri": "https://localhost:8080/"
    },
    "id": "iY0HAYmji9UT",
    "outputId": "9721a2f0-8b50-422c-f09b-62ee71ebf172"
   },
   "outputs": [
    {
     "name": "stdout",
     "output_type": "stream",
     "text": [
      "            Column  Unique Values Data Type\n",
      "4      Cholesterol            222     int64\n",
      "7            MaxHR            119     int64\n",
      "3        RestingBP             67     int64\n",
      "9          Oldpeak             53   float64\n",
      "0              Age             50     int64\n",
      "2    ChestPainType              4    object\n",
      "6       RestingECG              3    object\n",
      "10        ST_Slope              3    object\n",
      "1              Sex              2    object\n",
      "5        FastingBS              2     int64\n",
      "8   ExerciseAngina              2    object\n",
      "11    HeartDisease              2     int64\n"
     ]
    }
   ],
   "source": [
    "# Cek cardinality (jumlah nilai unik) untuk setiap kolom\n",
    "cardinality = pd.DataFrame({\n",
    "    'Column': data.columns,\n",
    "    'Unique Values': [data[col].nunique() for col in data.columns],\n",
    "    'Data Type': [data[col].dtype for col in data.columns]\n",
    "}).sort_values(by='Unique Values', ascending=False)\n",
    "\n",
    "# Tampilkan hasil\n",
    "print(cardinality)"
   ]
  },
  {
   "cell_type": "markdown",
   "metadata": {},
   "source": [
    "## Feature Selection"
   ]
  },
  {
   "cell_type": "code",
   "execution_count": 13,
   "metadata": {},
   "outputs": [
    {
     "name": "stdout",
     "output_type": "stream",
     "text": [
      "Selected Features: ['Cholesterol', 'MaxHR', 'RestingBP', 'Oldpeak', 'Age', 'FastingBS', 'ChestPainType', 'RestingECG', 'ST_Slope']\n"
     ]
    }
   ],
   "source": [
    "# Data awal\n",
    "data = {\n",
    "    \"Feature\": [\"Cholesterol\", \"MaxHR\", \"RestingBP\", \"Oldpeak\", \"Age\",\n",
    "                \"ChestPainType\", \"RestingECG\", \"ST_Slope\", \"Sex\", \n",
    "                \"FastingBS\", \"ExerciseAngina\", \"HeartDisease\"],\n",
    "    \"Unique Values\": [222, 119, 67, 53, 50, 4, 3, 3, 2, 2, 2, 2],\n",
    "    \"Data Type\": [\"int64\", \"int64\", \"int64\", \"float64\", \"int64\",\n",
    "                  \"object\", \"object\", \"object\", \"object\", \"int64\", \"object\", \"int64\"]\n",
    "}\n",
    "\n",
    "import pandas as pd\n",
    "\n",
    "df = pd.DataFrame(data)\n",
    "\n",
    "# Filter kolom numerik (int64, float64) kecuali target\n",
    "numerical_features = df[(df[\"Data Type\"].isin([\"int64\", \"float64\"])) & (df[\"Feature\"] != \"HeartDisease\")][\"Feature\"].tolist()\n",
    "\n",
    "# Filter kolom kategorikal (object) dengan kategori unik lebih dari 2\n",
    "categorical_features = df[(df[\"Data Type\"] == \"object\") & (df[\"Unique Values\"] > 2)][\"Feature\"].tolist()\n",
    "\n",
    "# Gabungkan semua fitur yang dipilih\n",
    "selected_features = numerical_features + categorical_features\n",
    "\n",
    "print(\"Selected Features:\", selected_features)\n"
   ]
  },
  {
   "cell_type": "code",
   "execution_count": 18,
   "metadata": {
    "id": "14WxlSmcF9AB"
   },
   "outputs": [],
   "source": [
    "# Memisahkan kolom numerik dan kategorikal\n",
    "numeric_features = ['Age', 'RestingBP', 'Cholesterol', 'MaxHR', 'Oldpeak']\n",
    "categorical_features = ['Sex', 'ChestPainType', 'RestingECG', 'ExerciseAngina', 'ST_Slope']"
   ]
  },
  {
   "cell_type": "markdown",
   "metadata": {
    "id": "X_o1PrLCGHri"
   },
   "source": [
    "## Pipeline Preprocessing"
   ]
  },
  {
   "cell_type": "code",
   "execution_count": 19,
   "metadata": {
    "id": "9JMcpc7AGMqN"
   },
   "outputs": [],
   "source": [
    "# Pipeline untuk fitur numerik\n",
    "numeric_transformer = Pipeline(steps=[\n",
    "    ('scaler', StandardScaler())\n",
    "])\n",
    "\n",
    "# Pipeline untuk fitur kategorikal\n",
    "categorical_transformer = Pipeline(steps=[\n",
    "    ('encoder', OneHotEncoder(handle_unknown='ignore'))\n",
    "])\n",
    "\n",
    "# Gabungkan pipeline numerik dan kategorikal\n",
    "preprocessor = ColumnTransformer(\n",
    "    transformers=[\n",
    "        ('num', numeric_transformer, numeric_features),\n",
    "        ('cat', categorical_transformer, categorical_features)\n",
    "    ]\n",
    ")\n"
   ]
  },
  {
   "cell_type": "markdown",
   "metadata": {
    "id": "u86a4e3-G7fV"
   },
   "source": [
    "## Model Definition"
   ]
  },
  {
   "cell_type": "code",
   "execution_count": 21,
   "metadata": {
    "id": "BSpri7hDG_Aq"
   },
   "outputs": [],
   "source": [
    "# List Model\n",
    "models = {\n",
    "    'KNN': KNeighborsClassifier(),\n",
    "    'SVM': SVC(probability=True, random_state=42),\n",
    "    'Decision Tree': DecisionTreeClassifier(random_state=42),\n",
    "    'Random Forest': RandomForestClassifier(random_state=42),\n",
    "    'Gradient Boosting': GradientBoostingClassifier(random_state=42)\n",
    "}\n"
   ]
  },
  {
   "cell_type": "code",
   "execution_count": 22,
   "metadata": {
    "colab": {
     "base_uri": "https://localhost:8080/"
    },
    "id": "AYAajsCMHNxj",
    "outputId": "fa782f56-89c1-49ed-8f54-725d48f599e6"
   },
   "outputs": [
    {
     "name": "stdout",
     "output_type": "stream",
     "text": [
      "KNN: Akurasi rata-rata = 85.01%, Standar deviasi = 1.15%\n",
      "SVM: Akurasi rata-rata = 86.37%, Standar deviasi = 2.89%\n",
      "Decision Tree: Akurasi rata-rata = 80.52%, Standar deviasi = 2.24%\n",
      "Random Forest: Akurasi rata-rata = 84.33%, Standar deviasi = 2.67%\n",
      "Gradient Boosting: Akurasi rata-rata = 85.01%, Standar deviasi = 2.25%\n"
     ]
    }
   ],
   "source": [
    "# Cross Validation\n",
    "results = {}\n",
    "for name, model in models.items():\n",
    "    clf = Pipeline(steps=[('preprocessor', preprocessor), ('classifier', model)])\n",
    "    scores = cross_val_score(clf, X_train, y_train, cv=5, scoring='accuracy')\n",
    "    results[name] = (scores.mean(), scores.std())\n",
    "\n",
    "# Print hasil\n",
    "for model, (mean_acc, std_acc) in results.items():\n",
    "    print(f\"{model}: Akurasi rata-rata = {mean_acc:.2%}, Standar deviasi = {std_acc:.2%}\")"
   ]
  },
  {
   "cell_type": "markdown",
   "metadata": {
    "id": "omDXC9zGHW8o"
   },
   "source": [
    "# Model Evaluation"
   ]
  },
  {
   "cell_type": "code",
   "execution_count": 23,
   "metadata": {
    "colab": {
     "base_uri": "https://localhost:8080/"
    },
    "id": "U6-MARjHHaCO",
    "outputId": "141dd4a6-f4b6-4842-dc68-53481f17ba30"
   },
   "outputs": [
    {
     "name": "stdout",
     "output_type": "stream",
     "text": [
      "Akurasi pada data uji: 89.67%\n"
     ]
    }
   ],
   "source": [
    "# Model evaluation data Train\n",
    "best_model = SVC(probability=True, random_state=42)  # Model terbaik dari evaluasi awal\n",
    "final_clf = Pipeline(steps=[('preprocessor', preprocessor), ('classifier', best_model)])\n",
    "final_clf.fit(X_train, y_train)\n",
    "\n",
    "# Tes akurasi pada data Train\n",
    "test_accuracy = final_clf.score(X_test, y_test)\n",
    "print(f\"Akurasi pada data uji: {test_accuracy:.2%}\")"
   ]
  },
  {
   "cell_type": "markdown",
   "metadata": {
    "id": "zXWU95kyIHNz"
   },
   "source": [
    "# Hyperparameter tuning"
   ]
  },
  {
   "cell_type": "markdown",
   "metadata": {
    "id": "jjLkXnzoINjP"
   },
   "source": [
    "## SVM Hyperparameter Tuning\n"
   ]
  },
  {
   "cell_type": "code",
   "execution_count": 24,
   "metadata": {
    "colab": {
     "base_uri": "https://localhost:8080/"
    },
    "id": "gzVgCRmCIKx6",
    "outputId": "7f01d0a4-7938-4b82-d229-d96e2ad023d9"
   },
   "outputs": [
    {
     "name": "stdout",
     "output_type": "stream",
     "text": [
      "Best SVM Parameters: {'classifier__C': 1, 'classifier__gamma': 'scale', 'classifier__kernel': 'rbf'}\n",
      "Best SVM Accuracy: 0.863703289534992\n"
     ]
    }
   ],
   "source": [
    "svm_params = {\n",
    "    'classifier__C': [0.1, 1, 10],\n",
    "    'classifier__kernel': ['linear', 'rbf', 'poly'],\n",
    "    'classifier__gamma': ['scale', 'auto']\n",
    "}\n",
    "\n",
    "svm_clf = Pipeline(steps=[('preprocessor', preprocessor), ('classifier', SVC(probability=True, random_state=42))])\n",
    "svm_grid = GridSearchCV(svm_clf, svm_params, cv=5, scoring='accuracy', n_jobs=-1)\n",
    "svm_grid.fit(X_train, y_train)\n",
    "\n",
    "print(\"Best SVM Parameters:\", svm_grid.best_params_)\n",
    "print(\"Best SVM Accuracy:\", svm_grid.best_score_)"
   ]
  },
  {
   "cell_type": "markdown",
   "metadata": {
    "id": "wP0CE6qSIas_"
   },
   "source": [
    "## Random Forest Hyperparameter Tuning"
   ]
  },
  {
   "cell_type": "code",
   "execution_count": 25,
   "metadata": {
    "colab": {
     "base_uri": "https://localhost:8080/"
    },
    "id": "QsoGw9CtIeMG",
    "outputId": "df6e4710-f767-42f5-8a6b-759e6af75c1c"
   },
   "outputs": [
    {
     "name": "stdout",
     "output_type": "stream",
     "text": [
      "Best Random Forest Parameters: {'classifier__max_depth': None, 'classifier__min_samples_split': 10, 'classifier__n_estimators': 100}\n",
      "Best Random Forest Accuracy: 0.859640294473954\n"
     ]
    }
   ],
   "source": [
    "rf_params = {\n",
    "    'classifier__n_estimators': [50, 100, 200],\n",
    "    'classifier__max_depth': [None, 10, 20],\n",
    "    'classifier__min_samples_split': [2, 5, 10],\n",
    "}\n",
    "\n",
    "rf_clf = Pipeline(steps=[('preprocessor', preprocessor), ('classifier', RandomForestClassifier(random_state=42))])\n",
    "rf_grid = GridSearchCV(rf_clf, rf_params, cv=5, scoring='accuracy', n_jobs=-1)\n",
    "rf_grid.fit(X_train, y_train)\n",
    "\n",
    "print(\"Best Random Forest Parameters:\", rf_grid.best_params_)\n",
    "print(\"Best Random Forest Accuracy:\", rf_grid.best_score_)"
   ]
  },
  {
   "cell_type": "markdown",
   "metadata": {
    "id": "OjVkm34pIw5a"
   },
   "source": [
    "## Gradient Boosting Hyperparameter Tuning"
   ]
  },
  {
   "cell_type": "code",
   "execution_count": 26,
   "metadata": {
    "id": "LBRRAN96Iz20"
   },
   "outputs": [
    {
     "name": "stdout",
     "output_type": "stream",
     "text": [
      "Best Gradient Boosting Parameters: {'classifier__learning_rate': 0.1, 'classifier__max_depth': 3, 'classifier__n_estimators': 200}\n",
      "Best Gradient Boosting Accuracy: 0.8582704314602552\n"
     ]
    }
   ],
   "source": [
    "gb_params = {\n",
    "    'classifier__n_estimators': [50, 100, 200],\n",
    "    'classifier__learning_rate': [0.01, 0.1, 0.2],\n",
    "    'classifier__max_depth': [3, 5, 7]\n",
    "}\n",
    "\n",
    "gb_clf = Pipeline(steps=[('preprocessor', preprocessor), ('classifier', GradientBoostingClassifier(random_state=42))])\n",
    "gb_grid = GridSearchCV(gb_clf, gb_params, cv=5, scoring='accuracy', n_jobs=-1)\n",
    "gb_grid.fit(X_train, y_train)\n",
    "\n",
    "print(\"Best Gradient Boosting Parameters:\", gb_grid.best_params_)\n",
    "print(\"Best Gradient Boosting Accuracy:\", gb_grid.best_score_)"
   ]
  },
  {
   "cell_type": "markdown",
   "metadata": {
    "id": "xnUNRN2pKtEY"
   },
   "source": [
    "## KNN Hyperparameter Tuning"
   ]
  },
  {
   "cell_type": "code",
   "execution_count": 27,
   "metadata": {
    "id": "4DoD6S1dKq_D"
   },
   "outputs": [
    {
     "name": "stdout",
     "output_type": "stream",
     "text": [
      "Best KNN Parameters: {'classifier__metric': 'manhattan', 'classifier__n_neighbors': 9, 'classifier__weights': 'distance'}\n",
      "Best KNN Accuracy: 0.862361382909328\n"
     ]
    }
   ],
   "source": [
    "knn_params = {\n",
    "    'classifier__n_neighbors': [3, 5, 7, 9],\n",
    "    'classifier__weights': ['uniform', 'distance'],\n",
    "    'classifier__metric': ['euclidean', 'manhattan']\n",
    "}\n",
    "\n",
    "knn_clf = Pipeline(steps=[('preprocessor', preprocessor), ('classifier', KNeighborsClassifier())])\n",
    "knn_grid = GridSearchCV(knn_clf, knn_params, cv=5, scoring='accuracy', n_jobs=-1)\n",
    "knn_grid.fit(X_train, y_train)\n",
    "\n",
    "print(\"Best KNN Parameters:\", knn_grid.best_params_)\n",
    "print(\"Best KNN Accuracy:\", knn_grid.best_score_)"
   ]
  },
  {
   "cell_type": "markdown",
   "metadata": {
    "id": "QDU__FYnK1__"
   },
   "source": [
    "##  Decision Tree Hyperparameter Tuning"
   ]
  },
  {
   "cell_type": "code",
   "execution_count": 28,
   "metadata": {
    "id": "x9Lh6LemK4Vb"
   },
   "outputs": [
    {
     "name": "stdout",
     "output_type": "stream",
     "text": [
      "Best Decision Tree Parameters: {'classifier__criterion': 'entropy', 'classifier__max_depth': 5, 'classifier__min_samples_split': 10}\n",
      "Best Decision Tree Accuracy: 0.8323921349361664\n"
     ]
    }
   ],
   "source": [
    "dt_params = {\n",
    "    'classifier__max_depth': [None, 5, 10, 20],\n",
    "    'classifier__min_samples_split': [2, 5, 10],\n",
    "    'classifier__criterion': ['gini', 'entropy']\n",
    "}\n",
    "\n",
    "dt_clf = Pipeline(steps=[('preprocessor', preprocessor), ('classifier', DecisionTreeClassifier(random_state=42))])\n",
    "dt_grid = GridSearchCV(dt_clf, dt_params, cv=5, scoring='accuracy', n_jobs=-1)\n",
    "dt_grid.fit(X_train, y_train)\n",
    "\n",
    "print(\"Best Decision Tree Parameters:\", dt_grid.best_params_)\n",
    "print(\"Best Decision Tree Accuracy:\", dt_grid.best_score_)"
   ]
  },
  {
   "cell_type": "markdown",
   "metadata": {
    "id": "q28BIP0OJCaG"
   },
   "source": [
    "## Perbandingan Hasil Model"
   ]
  },
  {
   "cell_type": "code",
   "execution_count": 29,
   "metadata": {
    "id": "WuR2BOcQJQuC"
   },
   "outputs": [
    {
     "data": {
      "image/png": "[encoded data removed]",
      "text/plain": [
       "<Figure size 800x600 with 1 Axes>"
      ]
     },
     "metadata": {},
     "output_type": "display_data"
    }
   ],
   "source": [
    "best_scores = {\n",
    "    'KNN': knn_grid.best_score_,\n",
    "    'SVM': svm_grid.best_score_,\n",
    "    'Decision Tree': dt_grid.best_score_,\n",
    "    'Random Forest': rf_grid.best_score_,\n",
    "    'Gradient Boosting': gb_grid.best_score_\n",
    "}\n",
    "\n",
    "# Visualisasi hasil\n",
    "plt.figure(figsize=(8, 6))\n",
    "sns.barplot(x=list(best_scores.keys()), y=list(best_scores.values()), palette='viridis')\n",
    "plt.title('Comparison of Best Model Accuracies After Tuning')\n",
    "plt.ylabel('Accuracy')\n",
    "plt.xlabel('Model')\n",
    "plt.ylim(0.8, 1)\n",
    "plt.show()"
   ]
  },
  {
   "cell_type": "markdown",
   "metadata": {
    "id": "wuU3k6j7JaAu"
   },
   "source": [
    "# Best Model"
   ]
  },
  {
   "cell_type": "code",
   "execution_count": 30,
   "metadata": {
    "id": "ABsa7zEmJdbd"
   },
   "outputs": [
    {
     "name": "stdout",
     "output_type": "stream",
     "text": [
      "Akurasi terbaik pada data uji: 89.13%\n"
     ]
    }
   ],
   "source": [
    "best_model = rf_grid.best_estimator_\n",
    "best_model.fit(X_train, y_train)\n",
    "\n",
    "# Evaluasi pada data uji\n",
    "test_accuracy = best_model.score(X_test, y_test)\n",
    "print(f\"Akurasi terbaik pada data uji: {test_accuracy:.2%}\")"
   ]
  },
  {
   "cell_type": "markdown",
   "metadata": {
    "id": "AlrB1kJiLRr9"
   },
   "source": [
    "# Model Inference"
   ]
  },
  {
   "cell_type": "code",
   "execution_count": 31,
   "metadata": {
    "id": "wnTI7_peLhJI"
   },
   "outputs": [],
   "source": [
    "final_model = rf_grid.best_estimator_"
   ]
  },
  {
   "cell_type": "markdown",
   "metadata": {},
   "source": [
    "# Model saving"
   ]
  },
  {
   "cell_type": "code",
   "execution_count": 32,
   "metadata": {},
   "outputs": [
    {
     "name": "stdout",
     "output_type": "stream",
     "text": [
      "Model disimpan di: final_heart_disease_model.pkl\n"
     ]
    }
   ],
   "source": [
    "import pickle\n",
    "\n",
    "model_path = 'final_heart_disease_model.pkl'\n",
    "with open(model_path, 'wb') as f:\n",
    "    pickle.dump(final_model, f)\n",
    "print(f\"Model disimpan di: {model_path}\")"
   ]
  },
  {
   "cell_type": "code",
   "execution_count": 33,
   "metadata": {},
   "outputs": [],
   "source": [
    "with open('final_heart_disease_model.pkl','rb') as o:\n",
    "        open_file = pickle.load(o)"
   ]
  },
  {
   "cell_type": "markdown",
   "metadata": {
    "id": "DRyO9c6_MV1D"
   },
   "source": [
    "## Model Inference "
   ]
  },
  {
   "cell_type": "code",
   "execution_count": 34,
   "metadata": {
    "id": "2ErNkPnoMbXs"
   },
   "outputs": [
    {
     "name": "stdout",
     "output_type": "stream",
     "text": [
      "         Prediction\n",
      "0  No Heart Disease\n",
      "1     Heart Disease\n"
     ]
    }
   ],
   "source": [
    "# Contoh beberapa data baru (DataFrame)\n",
    "batch_data = pd.DataFrame([\n",
    "    {\n",
    "        'Age': 45,\n",
    "        'Sex': 'F',\n",
    "        'ChestPainType': 'ATA',\n",
    "        'RestingBP': 120,\n",
    "        'Cholesterol': 210,\n",
    "        'FastingBS': 0,\n",
    "        'RestingECG': 'Normal',\n",
    "        'MaxHR': 170,\n",
    "        'ExerciseAngina': 'N',\n",
    "        'Oldpeak': 0.0,\n",
    "        'ST_Slope': 'Up'\n",
    "    },\n",
    "    {\n",
    "        'Age': 60,\n",
    "        'Sex': 'M',\n",
    "        'ChestPainType': 'ASY',\n",
    "        'RestingBP': 140,\n",
    "        'Cholesterol': 300,\n",
    "        'FastingBS': 1,\n",
    "        'RestingECG': 'ST',\n",
    "        'MaxHR': 130,\n",
    "        'ExerciseAngina': 'Y',\n",
    "        'Oldpeak': 2.3,\n",
    "        'ST_Slope': 'Flat'\n",
    "    }\n",
    "])\n",
    "\n",
    "# Prediksi batch\n",
    "predictions = open_file.predict(batch_data)\n",
    "\n",
    "# Tampilkan hasil\n",
    "results = pd.DataFrame({\n",
    "    'Prediction': ['Heart Disease' if p == 1 else 'No Heart Disease' for p in predictions],\n",
    "})\n",
    "print(results)\n"
   ]
  },
  {
   "cell_type": "markdown",
   "metadata": {
    "id": "HkvOCsZJkF4f"
   },
   "source": [
    "# Conceptual Problems"
   ]
  },
  {
   "cell_type": "markdown",
   "metadata": {
    "id": "Qyulksk1kPzv"
   },
   "source": [
    "## 1. Jelaskan latar belakang adanya bagging dan cara kerja bagging\n",
    "\n",
    "**Latar Belakang**:\n",
    "Bagging adalah salah satu metode ensemble dalam machine learning yang bertujuan untuk meningkatkan performa model, terutama dengan mengurangi variance. Metode ini diperkenalkan oleh Leo Breiman pada tahun 1996 sebagai solusi untuk meningkatkan stabilitas dan akurasi model prediksi.\n",
    "\n",
    "**Cara Kerja**:\n",
    "\n",
    "1 - Buat beberapa subset data: Ambil sampel acak dari data train untuk membuat beberapa subset.\n",
    "\n",
    "2 - Train model: Train model yang sama pada setiap subset data yang berbeda.\n",
    "\n",
    "3 - Gabungkan hasilnya: Setelah model-model tersebut selesai, gabungkan prediksi mereka."
   ]
  },
  {
   "cell_type": "markdown",
   "metadata": {
    "id": "kGjbJllmkSPj"
   },
   "source": [
    "## 2. Jelaskan perbedaan cara kerja algoritma Random Forest dengan algoritma boosting yang Anda pilih"
   ]
  },
  {
   "cell_type": "markdown",
   "metadata": {},
   "source": [
    "**Random Forest**: Membangun banyak pohon secara bersamaan dan menggabungkannya.\n",
    "\n",
    "**Boosting**: Membangun model secara berurutan, memperbaiki kesalahan model sebelumnya.\n",
    "\n",
    "Random Forest cenderung lebih fokus pada mengurangi variance, sementara Boosting berfokus pada mengurangi bias dan meningkatkan akurasi."
   ]
  },
  {
   "cell_type": "markdown",
   "metadata": {
    "id": "0NJMERWmkWsf"
   },
   "source": [
    "## 3. Jelaskan apa yang dimaksud dengan Cross Validation"
   ]
  },
  {
   "cell_type": "markdown",
   "metadata": {
    "id": "Sbr9kwndlRcV"
   },
   "source": [
    "**Cross-validation** adalah teknik evaluasi model dalam machine learning yang digunakan untuk mengukur kemampuan model terhadap data yang baru. Tujuan utamanya adalah memastikan apakah model sudah bagus untuk di pakai."
   ]
  },
  {
   "cell_type": "markdown",
   "metadata": {},
   "source": [
    "# Kesimpulan"
   ]
  },
  {
   "cell_type": "markdown",
   "metadata": {},
   "source": [
    "Kode yang diberikan melakukan analisis dan pemodelan data penyakit jantung.  \n",
    "\n",
    "Dimulai dengan(EDA) untuk memahami distribusi usia, tekanan darah, kolesterol, dan variabel lainnya, serta proporsi jenis kelamin dan jenis nyeri dada. \n",
    "\n",
    "Kemudian, dilakukan handling outlier pada data numerik dengan metode penghapusan atau penggantian nilai.  Selanjutnya, data dibagi menjadi data train dan data test.  Beberapa model klasifikasi (KNN, SVM, Decision Tree, Random Forest, Gradient Boosting) dievaluasi menggunakan *cross-validation* untuk menentukan model terbaik.  \n",
    "\n",
    "Model terbaik (Random Forest) lalu di-*tuning* hyperparameternya menggunakan *GridSearchCV* untuk meningkatkan akurasi. \n",
    "\n",
    "Model hasil *tuning* dievaluasi pada data train, lalu disimpan. Terakhir, \n",
    "\n",
    "dilakukan model inference dengan data baru untuk memprediksi kemungkinan penyakit jantung dikemas dalam bentuk tabel.  \n",
    "\n",
    "Selain itu, juga menjelaskan konsep *bagging*, perbedaan antara Random Forest dan Boosting, serta *cross-validation*.\n",
    "\n",
    "Kesimpulannya, kode ini membangun model prediktif untuk mendiagnosis penyakit jantung dengan akurasi yang cukup tinggi setelah melalui proses analisis, pembersihan data, dan optimasi model.\n"
   ]
  }
 ],
 "metadata": {
  "colab": {
   "provenance": [],
   "toc_visible": true
  },
  "kernelspec": {
   "display_name": "base",
   "language": "python",
   "name": "python3"
  },
  "language_info": {
   "codemirror_mode": {
    "name": "ipython",
    "version": 3
   },
   "file_extension": ".py",
   "mimetype": "text/x-python",
   "name": "python",
   "nbconvert_exporter": "python",
   "pygments_lexer": "ipython3",
   "version": "3.12.4"
  }
 },
 "nbformat": 4,
 "nbformat_minor": 0
}
